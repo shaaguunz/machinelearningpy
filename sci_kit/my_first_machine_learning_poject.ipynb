{
 "cells": [
  {
   "cell_type": "code",
   "execution_count": null,
   "metadata": {},
   "outputs": [],
   "source": [
    "from pandas import read_csv\n",
    "\n",
    "from numpy import set_printoptions\n",
    "\n",
    "dataframe = read_csv('BBC.csv')  \n",
    "# printing first n elements dataframe.head(2)  \n",
    "#printing last n elements dataframe.tail(2)\n",
    "# no fo rows and columns dataframe.shape\n",
    "# dataframe.describe()  inforamation about data\n",
    "x = array[:,0:11]\n",
    "y = array[:,11]\n"
   ]
  },
  {
   "cell_type": "code",
   "execution_count": null,
   "metadata": {},
   "outputs": [],
   "source": [
    "\n",
    "from sklearn.model_selection import train_test_split\n",
    "import sklearn.svm \n",
    "test_size = 0.25\n",
    "train_size = 0.75\n",
    "x_train,x_test,y_train,y_test = train_test_split(x,y,test_size = test_size,random_state = train_size)\n",
    "model = SVC()  #super vector class \n",
    "\n"
   ]
  },
  {
   "cell_type": "code",
   "execution_count": null,
   "metadata": {},
   "outputs": [],
   "source": [
    "model.fit(x_train,y_train)\n",
    "result = model.score(x_test,y_test)\n",
    "print(\"Accuracy is %.3f%%\")%(result*100.0)"
   ]
  },
  {
   "cell_type": "code",
   "execution_count": null,
   "metadata": {},
   "outputs": [],
   "source": [
    "from pandas import read_csv\n",
    "from numpy import set_printoptions\n",
    "from sklearn.model_selection import train_test_split \n",
    "from sklearn.svm import SVC\n",
    "from sklearn.neighbors import KNeighborsClassifier \n",
    "from sklearn.ensemble import RandomForestClassifier\n",
    "\n",
    "filename = 'BBC.csv'\n",
    "dataframe = read_csv(filename) \n",
    "\n",
    "array = dataframe.values\n",
    "X = array[:,0:11] \n",
    "Y = array[:,11]\n",
    "\n",
    "test_size = .4\n",
    "seed = 45\n",
    "X_train, X_test, Y_train, Y_test = train_test_split(X, Y, test_size=test_size, random_state=seed)\n",
    "\n",
    "model = SVC(gamma ='auto')\n",
    "model1 = SVC(gamma ='scale')\n",
    "model2 = KNeighborsClassifier()\n",
    "model3 = RandomForestClassifier(n_estimators=10)\n",
    "model4 =RandomForestClassifier(n_estimators=100)\n",
    "\n",
    "model.fit(X_train, Y_train) \n",
    "model1.fit(X_train,Y_train)\n",
    "model2.fit(X_train,Y_train)\n",
    "model3.fit(X_train,Y_train)\n",
    "model4.fit(X_train,Y_train)\n",
    "\n",
    "\n",
    "\n",
    "result = model.score(X_test, Y_test)\n",
    "result1 = model1.score(X_test, Y_test)\n",
    "result2 = model2.score(X_test, Y_test)\n",
    "result3 = model3.score(X_test, Y_test)\n",
    "result4 = model4.score(X_test,Y_test)\n",
    "\n",
    "\n",
    "\n",
    "\n",
    "\n",
    "\n",
    "print (result*100.0)\n",
    "print (result1*100.0)\n",
    "print (result2*100.0)\n",
    "print (result3*100.0)\n",
    "print(result4*100.0)"
   ]
  },
  {
   "cell_type": "code",
   "execution_count": null,
   "metadata": {},
   "outputs": [],
   "source": []
  },
  {
   "cell_type": "code",
   "execution_count": null,
   "metadata": {},
   "outputs": [],
   "source": []
  },
  {
   "cell_type": "code",
   "execution_count": null,
   "metadata": {},
   "outputs": [],
   "source": []
  }
 ],
 "metadata": {
  "kernelspec": {
   "display_name": "Python 3",
   "language": "python",
   "name": "python3"
  },
  "language_info": {
   "codemirror_mode": {
    "name": "ipython",
    "version": 3
   },
   "file_extension": ".py",
   "mimetype": "text/x-python",
   "name": "python",
   "nbconvert_exporter": "python",
   "pygments_lexer": "ipython3",
   "version": "3.7.4"
  }
 },
 "nbformat": 4,
 "nbformat_minor": 2
}
