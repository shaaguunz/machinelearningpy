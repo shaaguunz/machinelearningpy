{
 "cells": [
  {
   "cell_type": "code",
   "execution_count": 34,
   "metadata": {},
   "outputs": [],
   "source": [
    "import cv2\n",
    "import matplotlib.pyplot as plt\n",
    "\n",
    "from imutils import face_utils"
   ]
  },
  {
   "cell_type": "code",
   "execution_count": 35,
   "metadata": {},
   "outputs": [],
   "source": [
    "font = cv2.FONT_HERSHEY_SIMPLEX  # just a font"
   ]
  },
  {
   "cell_type": "markdown",
   "metadata": {},
   "source": [
    "Cascade classifer -> special case of ensemble learning  and relies on adaboost classifier\n"
   ]
  },
  {
   "cell_type": "markdown",
   "metadata": {},
   "source": [
    "trained using few hundred images that we want them to identify and few hundred that we don't "
   ]
  },
  {
   "cell_type": "markdown",
   "metadata": {},
   "source": [
    "Viola-jones object detection framework "
   ]
  },
  {
   "cell_type": "markdown",
   "metadata": {},
   "source": [
    "it has Haar feature selection\n",
    "common features in a human faces\n"
   ]
  },
  {
   "cell_type": "markdown",
   "metadata": {},
   "source": [
    "once the good region has been identified useless to runit over a completely different region of the image ( it can be achieved by adaboost) "
   ]
  },
  {
   "cell_type": "code",
   "execution_count": 36,
   "metadata": {},
   "outputs": [],
   "source": [
    "cascPath =\"E:\\codes\\conda\\Lib\\site-packages\\cv2\\data\\haarcascade_frontalface_default.xml\"\n",
    "eyePath = \"E:\\codes\\conda\\Lib\\site-packages\\cv2\\data\\haarcascade_eye.xml\"\n",
    "smilePath = \"E:\\codes\\conda\\Lib\\site-packages\\cv2\\data\\haarcascade_smile.xml\"\n"
   ]
  },
  {
   "cell_type": "code",
   "execution_count": 37,
   "metadata": {},
   "outputs": [],
   "source": [
    "faceCascade= cv2.CascadeClassifier(cascPath)\n",
    "eyeCascade = cv2.CascadeClassifier(eyePath)\n",
    "smileCascade = cv2.CascadeClassifier(smilePath)"
   ]
  },
  {
   "cell_type": "code",
   "execution_count": 38,
   "metadata": {},
   "outputs": [
    {
     "ename": "KeyboardInterrupt",
     "evalue": "",
     "output_type": "error",
     "traceback": [
      "\u001b[1;31m---------------------------------------------------------------------------\u001b[0m",
      "\u001b[1;31mKeyboardInterrupt\u001b[0m                         Traceback (most recent call last)",
      "\u001b[1;32m<ipython-input-38-26b833e5ff61>\u001b[0m in \u001b[0;36m<module>\u001b[1;34m\u001b[0m\n\u001b[0;32m      2\u001b[0m \u001b[1;32mwhile\u001b[0m \u001b[1;32mTrue\u001b[0m\u001b[1;33m:\u001b[0m\u001b[1;33m\u001b[0m\u001b[1;33m\u001b[0m\u001b[0m\n\u001b[0;32m      3\u001b[0m     \u001b[1;31m#frame by frame\u001b[0m\u001b[1;33m\u001b[0m\u001b[1;33m\u001b[0m\u001b[1;33m\u001b[0m\u001b[0m\n\u001b[1;32m----> 4\u001b[1;33m     \u001b[0mret\u001b[0m\u001b[1;33m,\u001b[0m\u001b[0mframe\u001b[0m \u001b[1;33m=\u001b[0m \u001b[0mvideo\u001b[0m\u001b[1;33m.\u001b[0m\u001b[0mread\u001b[0m\u001b[1;33m(\u001b[0m\u001b[1;33m)\u001b[0m\u001b[1;33m\u001b[0m\u001b[1;33m\u001b[0m\u001b[0m\n\u001b[0m\u001b[0;32m      5\u001b[0m     \u001b[0mgray\u001b[0m \u001b[1;33m=\u001b[0m \u001b[0mcv2\u001b[0m\u001b[1;33m.\u001b[0m\u001b[0mcvtColor\u001b[0m\u001b[1;33m(\u001b[0m\u001b[0mframe\u001b[0m\u001b[1;33m,\u001b[0m\u001b[0mcv2\u001b[0m\u001b[1;33m.\u001b[0m\u001b[0mCOLOR_BGR2GRAY\u001b[0m\u001b[1;33m)\u001b[0m\u001b[1;33m\u001b[0m\u001b[1;33m\u001b[0m\u001b[0m\n\u001b[0;32m      6\u001b[0m \u001b[1;33m\u001b[0m\u001b[0m\n",
      "\u001b[1;31mKeyboardInterrupt\u001b[0m: "
     ]
    }
   ],
   "source": [
    "video= cv2.VideoCapture(0)\n",
    "while True:\n",
    "    #frame by frame\n",
    "    ret,frame = video.read()\n",
    "    gray = cv2.cvtColor(frame,cv2.COLOR_BGR2GRAY)\n",
    "    "
   ]
  },
  {
   "cell_type": "code",
   "execution_count": null,
   "metadata": {},
   "outputs": [],
   "source": [
    "faces=faceCascade.detectMultiScale(gray,scaleFactor=1.1,minNeighbors=5,minSize=(30,30),flags=cv2.CASCADE_SCALE_IMAGE)\n"
   ]
  },
  {
   "cell_type": "code",
   "execution_count": null,
   "metadata": {},
   "outputs": [],
   "source": [
    "#for each faces detected\n",
    "for(a,b,c,d) in faces:\n",
    "    if c>250:\n",
    "        cv2.rectangle(frame,(a,b),(a+c,b+d),(255,0,0),3)\n",
    "        roi_gray=gray[b:b+d,a:a+c]\n",
    "        roi_color= frame[b:b+d,a:a+c]"
   ]
  },
  {
   "cell_type": "code",
   "execution_count": null,
   "metadata": {},
   "outputs": [],
   "source": [
    "#for each mouth detected\n",
    "smile = smileCascade.detectMultiScale(roi_gray,scaleFactor=1.16,minNeighbors=35,minSize=(25,25),flags=cv2.CASCADE_SCALE_IMAGE)\n",
    "for(sa,sb,sc,sd) in smile:\n",
    "    cv2.rectangle(roi_color,(sd,sb),(sa+sc,sb+sd),(255,0,0),2)\n",
    "    cv2.putText(frame,'Smile',(a+sa,b+sb),1,1,(0,255,0),1)\n",
    "    "
   ]
  },
  {
   "cell_type": "code",
   "execution_count": null,
   "metadata": {},
   "outputs": [],
   "source": [
    "#for each eye detected\n",
    "eyes=eyeCascade.detectMultiScale(roi_gray)\n",
    "for(ea,eb,ec,ed) in eyes:\n",
    "    cv2.rectangle(roi_color,(ea,eb),(ea+ec,eb+ed),(0,255,0),2)\n",
    "    cv2.putText(frame,'Eye',(a+ea,b+eb),1,1,(0,255,0),1)"
   ]
  },
  {
   "cell_type": "code",
   "execution_count": null,
   "metadata": {},
   "outputs": [],
   "source": [
    "cv2.putText(frame,'Number of faces :'+str(len(faces)),(40,40),font,1,(255,0,0),2)\n",
    "cv2.imshow('Video',frame)"
   ]
  },
  {
   "cell_type": "code",
   "execution_count": 33,
   "metadata": {},
   "outputs": [],
   "source": [
    "if(cv2.waitKey(1) &0xFF ==ord('q')):\n",
    "   end\n",
    "    "
   ]
  },
  {
   "cell_type": "code",
   "execution_count": 39,
   "metadata": {},
   "outputs": [],
   "source": [
    "video.release()\n",
    "cv2.destroyAllWindows()"
   ]
  },
  {
   "cell_type": "code",
   "execution_count": null,
   "metadata": {},
   "outputs": [],
   "source": []
  }
 ],
 "metadata": {
  "kernelspec": {
   "display_name": "Python 3",
   "language": "python",
   "name": "python3"
  },
  "language_info": {
   "codemirror_mode": {
    "name": "ipython",
    "version": 3
   },
   "file_extension": ".py",
   "mimetype": "text/x-python",
   "name": "python",
   "nbconvert_exporter": "python",
   "pygments_lexer": "ipython3",
   "version": "3.7.4"
  }
 },
 "nbformat": 4,
 "nbformat_minor": 2
}
