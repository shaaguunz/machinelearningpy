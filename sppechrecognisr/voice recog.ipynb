{
 "cells": [
  {
   "cell_type": "code",
   "execution_count": 3,
   "metadata": {},
   "outputs": [
    {
     "ename": "ModuleNotFoundError",
     "evalue": "No module named 'pyaudio'",
     "output_type": "error",
     "traceback": [
      "\u001b[1;31m---------------------------------------------------------------------------\u001b[0m",
      "\u001b[1;31mModuleNotFoundError\u001b[0m                       Traceback (most recent call last)",
      "\u001b[1;32m<ipython-input-3-7901102f76a4>\u001b[0m in \u001b[0;36m<module>\u001b[1;34m\u001b[0m\n\u001b[1;32m----> 1\u001b[1;33m \u001b[1;32mimport\u001b[0m \u001b[0mpyaudio\u001b[0m\u001b[1;33m\u001b[0m\u001b[1;33m\u001b[0m\u001b[0m\n\u001b[0m\u001b[0;32m      2\u001b[0m \u001b[1;32mimport\u001b[0m \u001b[0mwave\u001b[0m\u001b[1;33m\u001b[0m\u001b[1;33m\u001b[0m\u001b[0m\n\u001b[0;32m      3\u001b[0m \u001b[1;32mimport\u001b[0m \u001b[0mspeech_recognition\u001b[0m \u001b[1;32mas\u001b[0m \u001b[0msr\u001b[0m\u001b[1;33m\u001b[0m\u001b[1;33m\u001b[0m\u001b[0m\n\u001b[0;32m      4\u001b[0m \u001b[1;32mdef\u001b[0m \u001b[0mplay_audio\u001b[0m\u001b[1;33m(\u001b[0m\u001b[0mfilename\u001b[0m\u001b[1;33m)\u001b[0m\u001b[1;33m:\u001b[0m\u001b[1;33m\u001b[0m\u001b[1;33m\u001b[0m\u001b[0m\n\u001b[0;32m      5\u001b[0m     \u001b[0mchunk\u001b[0m \u001b[1;33m=\u001b[0m\u001b[1;36m1024\u001b[0m\u001b[1;33m\u001b[0m\u001b[1;33m\u001b[0m\u001b[0m\n",
      "\u001b[1;31mModuleNotFoundError\u001b[0m: No module named 'pyaudio'"
     ]
    }
   ],
   "source": [
    "import pyaudio\n",
    "import wave\n",
    "import speech_recognition as sr\n",
    "def play_audio(filename):\n",
    "    chunk =1024\n",
    "    wf = wave.open(filename,'rb')\n",
    "    pa = pyaudio.PyAudio()\n",
    "\n",
    "    stream = pa.open(\n",
    "        format = pa.get_format_from_width(wf.getsampwidth()),\n",
    "        channels  =wf.getnchannels(),\n",
    "        rate = wf.getframerate(),\n",
    "        output =True\n",
    "\n",
    "    )\n",
    "    data_stream = wf.readframes(chunk)\n",
    "    while data_stream:\n",
    "\n",
    "        stream.write(data_stream)\n",
    "        data_stream = wf.readframes(chunk)\n",
    "    stream.close()\n",
    "    pa.terminate()\n",
    "\n",
    "r = sr.Recognizer()\n",
    "def initSpeech():\n",
    "    print(\"Listening\")\n",
    "    \n",
    "    play_audio(\"./audio/a.wav\")\n",
    "     \n",
    "    with sr.Mircophone() as source:\n",
    "         print(\"Say something\")\n",
    "         audio = r.listen(source)\n",
    "         \n",
    "    play_audio(\"./audio/b.wav\")\n",
    "    \n",
    "    command = \"\"\n",
    "    try:\n",
    "        command = r.recognize_google(audio)\n",
    "    except:\n",
    "        print(\"sorry couldnt understamnd\")\n",
    "    print(\"your command\")\n",
    "    print(command)\n",
    "initSpeech()"
   ]
  },
  {
   "cell_type": "code",
   "execution_count": null,
   "metadata": {},
   "outputs": [],
   "source": []
  }
 ],
 "metadata": {
  "kernelspec": {
   "display_name": "Python 3",
   "language": "python",
   "name": "python3"
  },
  "language_info": {
   "codemirror_mode": {
    "name": "ipython",
    "version": 3
   },
   "file_extension": ".py",
   "mimetype": "text/x-python",
   "name": "python",
   "nbconvert_exporter": "python",
   "pygments_lexer": "ipython3",
   "version": "3.7.4"
  }
 },
 "nbformat": 4,
 "nbformat_minor": 2
}
